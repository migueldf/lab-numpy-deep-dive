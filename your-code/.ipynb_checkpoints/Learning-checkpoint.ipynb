{
 "cells": [
  {
   "cell_type": "markdown",
   "metadata": {},
   "source": [
    "# Introduction to Numpy\n",
    "\n",
    "Lesson Goals\n",
    "\n",
    "    Learn about Numpy data structures.\n",
    "    Extract data from Numpy arrays.\n",
    "    Convert other Python data structures to Numpy arrays.\n",
    "    Perform basic mathematical functions on arrays and elements.\n",
    "\n",
    "Introduction\n",
    "\n",
    "Many of the libraries you will use to perform data analysis in Python, as well as many of the mathematical functions you'll use, will involve working with Numpy. Numpy (short for Numerical Python) is used for numeric computing and includes support for multi-dimensional arrays and matrices along with a variety of mathematical functions to apply to them. In this lesson, we will learn about Numpy's primary data structures and how to apply some basic math functions to them.\n",
    "Importing Numpy\n",
    "\n",
    "In order to use Numpy, you must first import it. It is common to also alias it to np using the as keyword so that you don't have to spell out \"numpy\" every time you want to call one of its methods. "
   ]
  },
  {
   "cell_type": "code",
   "execution_count": 1,
   "metadata": {},
   "outputs": [],
   "source": [
    "import numpy as np"
   ]
  },
  {
   "cell_type": "markdown",
   "metadata": {},
   "source": [
    "Once the library has been imported, it is ready to use.\n",
    "Numpy Arrays\n",
    "\n",
    "The basic data structures in Numpy are arrays, which can be used to represent tabular data. You can think of arrays as lists of lists, where all the elements of a list are of the same type (typically numeric since the reason you use Numpy is to do numeric computing). A matrix is just a two-dimensional array.\n",
    "\n",
    "The size of an array is the total number of elements in every list. The shape of an array is the size of the array along each dimension (e.g. number of rows and number of columns for a two-dimensional array). Let's create a two dimensional 10 x 4 array containing random numbers and calculate the shape and size of the array using the shape and size methods. "
   ]
  },
  {
   "cell_type": "code",
   "execution_count": 33,
   "metadata": {},
   "outputs": [
    {
     "name": "stdout",
     "output_type": "stream",
     "text": [
      "[[0.91884615 0.42903098 0.79740013 0.09021827]\n",
      " [0.03691147 0.59164732 0.11158437 0.196117  ]\n",
      " [0.33554048 0.57427238 0.03852728 0.9632282 ]\n",
      " [0.25225696 0.03547996 0.50051543 0.90156243]\n",
      " [0.86084684 0.49266267 0.87703574 0.91599614]\n",
      " [0.14225729 0.31553247 0.2258485  0.16142268]\n",
      " [0.67634535 0.27678227 0.50748532 0.26663575]\n",
      " [0.85461774 0.38069012 0.12645865 0.23614514]\n",
      " [0.13565103 0.79217743 0.90199779 0.63849672]\n",
      " [0.63254116 0.62674827 0.79230227 0.74099454]]\n",
      "[[[1. 1. 1.]\n",
      "  [1. 1. 1.]]\n",
      "\n",
      " [[1. 1. 1.]\n",
      "  [1. 1. 1.]]\n",
      "\n",
      " [[1. 1. 1.]\n",
      "  [1. 1. 1.]]\n",
      "\n",
      " [[1. 1. 1.]\n",
      "  [1. 1. 1.]]\n",
      "\n",
      " [[1. 1. 1.]\n",
      "  [1. 1. 1.]]]\n"
     ]
    }
   ],
   "source": [
    "a = np.random.random((10,4))\n",
    "print(a)\n",
    "\n",
    "\n",
    "print(b)"
   ]
  },
  {
   "cell_type": "code",
   "execution_count": 3,
   "metadata": {},
   "outputs": [
    {
     "name": "stdout",
     "output_type": "stream",
     "text": [
      "(10, 4)\n",
      "40\n"
     ]
    }
   ],
   "source": [
    "print(a.shape)\n",
    "print(a.size)"
   ]
  },
  {
   "cell_type": "markdown",
   "metadata": {},
   "source": [
    "As you can see, the array has a shape of 10 x 4 (just as we specified) and the total number of elements in the array is 40.\n",
    "\n",
    "Now that we have seen an example of a basic two-dimensional array (a matrix), let's learn about how creating arrays with more dimensions than two works in Numpy. Let's build a three-dimensional array of random numbers and see what that looks like."
   ]
  },
  {
   "cell_type": "code",
   "execution_count": 4,
   "metadata": {},
   "outputs": [
    {
     "name": "stdout",
     "output_type": "stream",
     "text": [
      "[[[0.01475027 0.20822564 0.15840729]\n",
      "  [0.59766202 0.13752853 0.33737943]]\n",
      "\n",
      " [[0.03398577 0.96439275 0.04767937]\n",
      "  [0.28889468 0.67305045 0.99895349]]\n",
      "\n",
      " [[0.4734863  0.82289725 0.72339169]\n",
      "  [0.62498825 0.64825759 0.99269383]]\n",
      "\n",
      " [[0.79832648 0.81852054 0.82581205]\n",
      "  [0.39885561 0.16782929 0.43224248]]\n",
      "\n",
      " [[0.05076645 0.23296961 0.55710453]\n",
      "  [0.86193833 0.1029876  0.58444808]]]\n"
     ]
    }
   ],
   "source": [
    "b = np.random.random((5,2,3))\n",
    "print(b)"
   ]
  },
  {
   "cell_type": "markdown",
   "metadata": {},
   "source": [
    "This created an array with five groups of 2 x 3 matrices. Let's see what happens if we pass four dimensions."
   ]
  },
  {
   "cell_type": "code",
   "execution_count": 5,
   "metadata": {},
   "outputs": [
    {
     "name": "stdout",
     "output_type": "stream",
     "text": [
      "[[[[0.15007089 0.84475486 0.56780535 0.76773581 0.67643832]\n",
      "   [0.47706472 0.15835747 0.96073923 0.26916136 0.99242033]\n",
      "   [0.1501003  0.56980053 0.55092525 0.40388233 0.55440704]\n",
      "   [0.63101145 0.78690976 0.39247757 0.7447083  0.35971275]]\n",
      "\n",
      "  [[0.73864356 0.13532966 0.16086227 0.23340953 0.97329755]\n",
      "   [0.80819762 0.32006897 0.27588481 0.82489895 0.02007408]\n",
      "   [0.37421203 0.90336982 0.92611448 0.23978606 0.85079399]\n",
      "   [0.81780653 0.84748005 0.16104212 0.32072315 0.47962344]]\n",
      "\n",
      "  [[0.79751385 0.61131279 0.85860373 0.6000417  0.55438198]\n",
      "   [0.3957135  0.25846591 0.64813898 0.27205363 0.10169   ]\n",
      "   [0.23441453 0.68131264 0.44891896 0.66097706 0.52227819]\n",
      "   [0.55968446 0.19664304 0.39970772 0.52027101 0.66820944]]]\n",
      "\n",
      "\n",
      " [[[0.79474045 0.22495867 0.34910941 0.34453291 0.9732521 ]\n",
      "   [0.28057243 0.04005447 0.00822009 0.47185465 0.95100334]\n",
      "   [0.39333095 0.71399756 0.56678692 0.44707807 0.51005161]\n",
      "   [0.54315888 0.06207534 0.35474599 0.55542451 0.56566904]]\n",
      "\n",
      "  [[0.57088606 0.54807659 0.31637077 0.20780991 0.14734156]\n",
      "   [0.44047693 0.06307696 0.30924393 0.18673605 0.2131725 ]\n",
      "   [0.07063837 0.15713582 0.96145645 0.04221339 0.43955483]\n",
      "   [0.84861535 0.8429113  0.0041818  0.73437705 0.2109715 ]]\n",
      "\n",
      "  [[0.99443254 0.99162513 0.44917048 0.86895595 0.91564927]\n",
      "   [0.48004908 0.40449356 0.14639184 0.06896884 0.64289997]\n",
      "   [0.37339477 0.05808835 0.18904134 0.91665544 0.08014346]\n",
      "   [0.10707713 0.66440334 0.19641276 0.07548445 0.8021497 ]]]]\n"
     ]
    }
   ],
   "source": [
    "c = np.random.random((2,3,4,5))\n",
    "print(c)"
   ]
  },
  {
   "cell_type": "markdown",
   "metadata": {},
   "source": [
    "This time, we got two groups of three 4 x 5 matrices.\n",
    "\n",
    "\n",
    "# Extracting Data from Arrays\n",
    "\n",
    "Extracting elements from arrays works just like it does for other Python data structures. We just need to reference the indexes of the values we want to extract. Below are some examples of how to reference specific rows, columns, and values in a two dimensional array."
   ]
  },
  {
   "cell_type": "code",
   "execution_count": 6,
   "metadata": {},
   "outputs": [
    {
     "name": "stdout",
     "output_type": "stream",
     "text": [
      "[0.1248275  0.22750952 0.58822361 0.23139037]\n"
     ]
    }
   ],
   "source": [
    "# First row of matrix a\n",
    "print(a[0])"
   ]
  },
  {
   "cell_type": "code",
   "execution_count": 7,
   "metadata": {},
   "outputs": [
    {
     "name": "stdout",
     "output_type": "stream",
     "text": [
      "[0.1248275  0.21399488 0.52966426 0.78913513 0.96769411 0.9551811\n",
      " 0.81108555 0.54243242 0.72091582 0.4814253 ]\n"
     ]
    }
   ],
   "source": [
    "# First column of matrix a\n",
    "print(a[:,0])"
   ]
  },
  {
   "cell_type": "code",
   "execution_count": 8,
   "metadata": {},
   "outputs": [
    {
     "name": "stdout",
     "output_type": "stream",
     "text": [
      "0.42604772957794057\n"
     ]
    }
   ],
   "source": [
    "# Value in the fifth row and third column of matrix a\n",
    "print(a[4,2])"
   ]
  },
  {
   "cell_type": "markdown",
   "metadata": {},
   "source": [
    "What about arrays that have more than two dimensions? You just pass a list of indexes for the values you want, and it will return the corresponding dimensions or values."
   ]
  },
  {
   "cell_type": "code",
   "execution_count": 9,
   "metadata": {},
   "outputs": [
    {
     "name": "stdout",
     "output_type": "stream",
     "text": [
      "[[[0.15007089 0.84475486 0.56780535 0.76773581 0.67643832]\n",
      "  [0.47706472 0.15835747 0.96073923 0.26916136 0.99242033]\n",
      "  [0.1501003  0.56980053 0.55092525 0.40388233 0.55440704]\n",
      "  [0.63101145 0.78690976 0.39247757 0.7447083  0.35971275]]\n",
      "\n",
      " [[0.73864356 0.13532966 0.16086227 0.23340953 0.97329755]\n",
      "  [0.80819762 0.32006897 0.27588481 0.82489895 0.02007408]\n",
      "  [0.37421203 0.90336982 0.92611448 0.23978606 0.85079399]\n",
      "  [0.81780653 0.84748005 0.16104212 0.32072315 0.47962344]]\n",
      "\n",
      " [[0.79751385 0.61131279 0.85860373 0.6000417  0.55438198]\n",
      "  [0.3957135  0.25846591 0.64813898 0.27205363 0.10169   ]\n",
      "  [0.23441453 0.68131264 0.44891896 0.66097706 0.52227819]\n",
      "  [0.55968446 0.19664304 0.39970772 0.52027101 0.66820944]]]\n"
     ]
    }
   ],
   "source": [
    "# First group of array c\n",
    "print(c[0])"
   ]
  },
  {
   "cell_type": "code",
   "execution_count": 10,
   "metadata": {},
   "outputs": [
    {
     "name": "stdout",
     "output_type": "stream",
     "text": [
      "[[0.73864356 0.13532966 0.16086227 0.23340953 0.97329755]\n",
      " [0.80819762 0.32006897 0.27588481 0.82489895 0.02007408]\n",
      " [0.37421203 0.90336982 0.92611448 0.23978606 0.85079399]\n",
      " [0.81780653 0.84748005 0.16104212 0.32072315 0.47962344]]\n"
     ]
    }
   ],
   "source": [
    "# Second subgroup of the first group\n",
    "print(c[0,1])"
   ]
  },
  {
   "cell_type": "code",
   "execution_count": 11,
   "metadata": {},
   "outputs": [
    {
     "name": "stdout",
     "output_type": "stream",
     "text": [
      "[0.37421203 0.90336982 0.92611448 0.23978606 0.85079399]\n"
     ]
    }
   ],
   "source": [
    "# Third row of the second subgroup\n",
    "print(c[0,1,2])"
   ]
  },
  {
   "cell_type": "code",
   "execution_count": 12,
   "metadata": {},
   "outputs": [
    {
     "name": "stdout",
     "output_type": "stream",
     "text": [
      "[0.23340953 0.82489895 0.23978606 0.32072315]\n"
     ]
    }
   ],
   "source": [
    "# Fourth column of the second subgroup\n",
    "print(c[0,1,:,3])"
   ]
  },
  {
   "cell_type": "code",
   "execution_count": 13,
   "metadata": {},
   "outputs": [
    {
     "name": "stdout",
     "output_type": "stream",
     "text": [
      "0.2397860639747208\n"
     ]
    }
   ],
   "source": [
    "# Value in the third row and fourth column of the second subgroup\n",
    "print(c[0,1,2,3])"
   ]
  },
  {
   "cell_type": "markdown",
   "metadata": {},
   "source": [
    "# Converting Other Data Structures to Arrays\n",
    "\n",
    "If you have data in another type of data structure and you would like to convert it to an array so that you can take advantage of Numpy's mathematical functions, you can convert them using the array() method as follows. "
   ]
  },
  {
   "cell_type": "code",
   "execution_count": 14,
   "metadata": {},
   "outputs": [
    {
     "name": "stdout",
     "output_type": "stream",
     "text": [
      "[[1 2 3]\n",
      " [4 5 6]\n",
      " [7 8 9]]\n"
     ]
    }
   ],
   "source": [
    "lst_lst = [[1,2,3],[4,5,6],[7,8,9]]\n",
    "d = np.array(lst_lst)\n",
    "print(d)"
   ]
  },
  {
   "cell_type": "markdown",
   "metadata": {},
   "source": [
    "This works the same way whether you have a list of lists, a list of tuples, a tuple of lists, or a tuple of tuples.\n",
    "\n",
    "\n",
    "\n",
    "\n",
    "# Numpy Math Functions\n",
    "\n",
    "Now that we know how to create and navigate arrays, let's take a look at how to perform mathematical calculations on them.\n",
    "\n",
    "One of the most common (and useful) functions is np.sum, which lets you obtain the sum of any elements you select from an array. "
   ]
  },
  {
   "cell_type": "code",
   "execution_count": 15,
   "metadata": {},
   "outputs": [
    {
     "name": "stdout",
     "output_type": "stream",
     "text": [
      "18.363172445803063\n"
     ]
    }
   ],
   "source": [
    "# Sum of all elements in matrix a\n",
    "print(np.sum(a))"
   ]
  },
  {
   "cell_type": "code",
   "execution_count": 16,
   "metadata": {},
   "outputs": [
    {
     "name": "stdout",
     "output_type": "stream",
     "text": [
      "[6.13635606 3.58930116 5.54410185 3.09341338]\n"
     ]
    }
   ],
   "source": [
    "# Sum of each column in matrix a\n",
    "print(np.sum(a, axis=0))"
   ]
  },
  {
   "cell_type": "code",
   "execution_count": 17,
   "metadata": {},
   "outputs": [
    {
     "name": "stdout",
     "output_type": "stream",
     "text": [
      "[1.17195099 1.91713657 1.3105544  1.48650718 1.48029572 2.04334698\n",
      " 2.9009133  1.65718264 2.77890476 1.6163799 ]\n"
     ]
    }
   ],
   "source": [
    "# Sum of each row in matrix a\n",
    "print(np.sum(a, axis=1))"
   ]
  },
  {
   "cell_type": "code",
   "execution_count": 18,
   "metadata": {},
   "outputs": [
    {
     "data": {
      "text/plain": [
       "4.46090968729482"
      ]
     },
     "execution_count": 18,
     "metadata": {},
     "output_type": "execute_result"
    }
   ],
   "source": [
    "# Sum of all the elements in the first two groups of array b\n",
    "np.sum(b[:2])"
   ]
  },
  {
   "cell_type": "markdown",
   "metadata": {},
   "source": [
    "The np.mean function works the same way and is also very useful. "
   ]
  },
  {
   "cell_type": "code",
   "execution_count": 19,
   "metadata": {},
   "outputs": [
    {
     "name": "stdout",
     "output_type": "stream",
     "text": [
      "0.45907931114507655\n"
     ]
    }
   ],
   "source": [
    "# Mean of all elements in matrix a\n",
    "print(np.mean(a))"
   ]
  },
  {
   "cell_type": "code",
   "execution_count": 20,
   "metadata": {},
   "outputs": [
    {
     "name": "stdout",
     "output_type": "stream",
     "text": [
      "[0.61363561 0.35893012 0.55441019 0.30934134]\n"
     ]
    }
   ],
   "source": [
    "# Mean of each column in matrix a\n",
    "print(np.mean(a, axis=0))"
   ]
  },
  {
   "cell_type": "code",
   "execution_count": 21,
   "metadata": {},
   "outputs": [
    {
     "name": "stdout",
     "output_type": "stream",
     "text": [
      "[0.29298775 0.47928414 0.3276386  0.3716268  0.37007393 0.51083674\n",
      " 0.72522833 0.41429566 0.69472619 0.40409498]\n"
     ]
    }
   ],
   "source": [
    "# Mean of each row in matrix a\n",
    "print(np.mean(a, axis=1))"
   ]
  },
  {
   "cell_type": "code",
   "execution_count": 22,
   "metadata": {},
   "outputs": [
    {
     "data": {
      "text/plain": [
       "0.371742473941235"
      ]
     },
     "execution_count": 22,
     "metadata": {},
     "output_type": "execute_result"
    }
   ],
   "source": [
    "# Mean of all the elements in the first two groups of array b\n",
    "np.mean(b[:2])"
   ]
  },
  {
   "cell_type": "markdown",
   "metadata": {},
   "source": [
    "In addition to letting you perform calculations on individual arrays, Numpy also lets you perform calculations between arrays. For example, let's select two of the subarrays from array c to illustrate how this works."
   ]
  },
  {
   "cell_type": "code",
   "execution_count": 23,
   "metadata": {},
   "outputs": [
    {
     "name": "stdout",
     "output_type": "stream",
     "text": [
      "[[0.15007089 0.84475486 0.56780535 0.76773581 0.67643832]\n",
      " [0.47706472 0.15835747 0.96073923 0.26916136 0.99242033]\n",
      " [0.1501003  0.56980053 0.55092525 0.40388233 0.55440704]\n",
      " [0.63101145 0.78690976 0.39247757 0.7447083  0.35971275]]\n"
     ]
    }
   ],
   "source": [
    "x = c[0,0]\n",
    "print(x)"
   ]
  },
  {
   "cell_type": "code",
   "execution_count": 24,
   "metadata": {},
   "outputs": [
    {
     "name": "stdout",
     "output_type": "stream",
     "text": [
      "[[0.73864356 0.13532966 0.16086227 0.23340953 0.97329755]\n",
      " [0.80819762 0.32006897 0.27588481 0.82489895 0.02007408]\n",
      " [0.37421203 0.90336982 0.92611448 0.23978606 0.85079399]\n",
      " [0.81780653 0.84748005 0.16104212 0.32072315 0.47962344]]\n"
     ]
    }
   ],
   "source": [
    "y = c[0,1]\n",
    "print(y)"
   ]
  },
  {
   "cell_type": "markdown",
   "metadata": {},
   "source": [
    "We can now add, subtract, multiply, and divide the two arrays."
   ]
  },
  {
   "cell_type": "code",
   "execution_count": 25,
   "metadata": {},
   "outputs": [
    {
     "name": "stdout",
     "output_type": "stream",
     "text": [
      "[[0.88871445 0.98008451 0.72866763 1.00114533 1.64973586]\n",
      " [1.28526234 0.47842644 1.23662404 1.09406031 1.01249442]\n",
      " [0.52431233 1.47317035 1.47703973 0.64366839 1.40520103]\n",
      " [1.44881798 1.63438981 0.55351969 1.06543145 0.8393362 ]]\n"
     ]
    }
   ],
   "source": [
    "# Add elements of x and y together\n",
    "print(np.add(x, y))"
   ]
  },
  {
   "cell_type": "code",
   "execution_count": 26,
   "metadata": {},
   "outputs": [
    {
     "name": "stdout",
     "output_type": "stream",
     "text": [
      "[[ 0.58857267 -0.7094252  -0.40694308 -0.53432628  0.29685923]\n",
      " [ 0.3311329   0.1617115  -0.68485443  0.55573759 -0.97234625]\n",
      " [ 0.22411172  0.33356929  0.37518923 -0.16409626  0.29638695]\n",
      " [ 0.18679508  0.0605703  -0.23143544 -0.42398514  0.11991069]]\n"
     ]
    }
   ],
   "source": [
    "# Subtract elements of x from elements of y\n",
    "print(np.subtract(y, x))"
   ]
  },
  {
   "cell_type": "code",
   "execution_count": 27,
   "metadata": {},
   "outputs": [
    {
     "name": "stdout",
     "output_type": "stream",
     "text": [
      "[[0.1108489  0.11432038 0.09133846 0.17919685 0.65837575]\n",
      " [0.38556257 0.05068531 0.26505336 0.22203092 0.01992193]\n",
      " [0.05616934 0.5147406  0.51021985 0.09684535 0.47168617]\n",
      " [0.51604529 0.66689032 0.06320542 0.23884519 0.17252667]]\n"
     ]
    }
   ],
   "source": [
    "# Multiply elements of x and y together\n",
    "print(np.multiply(x, y))"
   ]
  },
  {
   "cell_type": "code",
   "execution_count": 28,
   "metadata": {},
   "outputs": [
    {
     "name": "stdout",
     "output_type": "stream",
     "text": [
      "[[4.9219643  0.16019991 0.28330531 0.30402324 1.43885632]\n",
      " [1.69410478 2.02118011 0.28715888 3.06470051 0.0202274 ]\n",
      " [2.49307976 1.58541414 1.68101657 0.59370279 1.53460171]\n",
      " [1.29602487 1.07697235 0.41032185 0.4306695  1.33335123]]\n"
     ]
    }
   ],
   "source": [
    "# Divide elements of y by elements of x\n",
    "print(np.divide(y, x))"
   ]
  },
  {
   "cell_type": "markdown",
   "metadata": {},
   "source": [
    "This is only the tip of the iceberg. Numpy has many more functions, which you can and should explore. You can read more about them in the [Numpy documentation](https://docs.scipy.org/doc/numpy-1.13.0/reference/routines.math.html). "
   ]
  },
  {
   "cell_type": "code",
   "execution_count": 51,
   "metadata": {},
   "outputs": [],
   "source": [
    "a = np.random.random((2,3,5))\n",
    "b = np.ones((5,2,3))\n",
    "\n",
    "c = np.transpose(b, (1,2,0))\n",
    "\n",
    "d = np.add(a,c)"
   ]
  },
  {
   "cell_type": "code",
   "execution_count": 54,
   "metadata": {},
   "outputs": [
    {
     "name": "stdout",
     "output_type": "stream",
     "text": [
      "[[[0.28929435 0.83152847 0.27604137 0.56655657 0.48342368]\n",
      "  [0.36116152 0.75554083 0.7298266  0.71814933 0.43870523]\n",
      "  [0.07122435 0.60842997 0.9499625  0.74349916 0.89780174]]\n",
      "\n",
      " [[0.8877115  0.82560731 0.99403515 0.25285585 0.43772084]\n",
      "  [0.9951472  0.67128312 0.76760905 0.52954736 0.56644999]\n",
      "  [0.34773871 0.62343385 0.41809296 0.73193161 0.68146037]]]\n",
      "\n",
      "[[[1.28929435 1.83152847 1.27604137 1.56655657 1.48342368]\n",
      "  [1.36116152 1.75554083 1.7298266  1.71814933 1.43870523]\n",
      "  [1.07122435 1.60842997 1.9499625  1.74349916 1.89780174]]\n",
      "\n",
      " [[1.8877115  1.82560731 1.99403515 1.25285585 1.43772084]\n",
      "  [1.9951472  1.67128312 1.76760905 1.52954736 1.56644999]\n",
      "  [1.34773871 1.62343385 1.41809296 1.73193161 1.68146037]]]\n"
     ]
    }
   ],
   "source": [
    "print(a)\n",
    "print()\n",
    "print(d)"
   ]
  },
  {
   "cell_type": "code",
   "execution_count": 57,
   "metadata": {},
   "outputs": [
    {
     "name": "stdout",
     "output_type": "stream",
     "text": [
      "[[[0.28929435 0.83152847 0.27604137 0.56655657 0.48342368]\n",
      "  [0.36116152 0.75554083 0.7298266  0.71814933 0.43870523]\n",
      "  [0.07122435 0.60842997 0.9499625  0.74349916 0.89780174]]\n",
      "\n",
      " [[0.8877115  0.82560731 0.99403515 0.25285585 0.43772084]\n",
      "  [0.9951472  0.67128312 0.76760905 0.52954736 0.56644999]\n",
      "  [0.34773871 0.62343385 0.41809296 0.73193161 0.68146037]]]\n",
      "\n",
      "\n",
      "[[[1. 1. 1. 1. 1.]\n",
      "  [1. 1. 1. 1. 1.]\n",
      "  [1. 1. 1. 1. 1.]]\n",
      "\n",
      " [[1. 1. 1. 1. 1.]\n",
      "  [1. 1. 1. 1. 1.]\n",
      "  [1. 1. 1. 1. 1.]]]\n",
      "\n",
      "\n",
      "[[[0.28929435 0.83152847 0.27604137 0.56655657 0.48342368]\n",
      "  [0.36116152 0.75554083 0.7298266  0.71814933 0.43870523]\n",
      "  [0.07122435 0.60842997 0.9499625  0.74349916 0.89780174]]\n",
      "\n",
      " [[0.8877115  0.82560731 0.99403515 0.25285585 0.43772084]\n",
      "  [0.9951472  0.67128312 0.76760905 0.52954736 0.56644999]\n",
      "  [0.34773871 0.62343385 0.41809296 0.73193161 0.68146037]]]\n"
     ]
    }
   ],
   "source": [
    "e = np.multiply(a,c)\n",
    "\n",
    "print(a)\n",
    "print()\n",
    "print()\n",
    "print(c)\n",
    "print()\n",
    "print()\n",
    "print(e)"
   ]
  },
  {
   "cell_type": "code",
   "execution_count": 59,
   "metadata": {},
   "outputs": [],
   "source": [
    "d_max = d.max()\n",
    "d_min = d.min()\n",
    "d_mean = d.mean()\n"
   ]
  },
  {
   "cell_type": "code",
   "execution_count": 60,
   "metadata": {},
   "outputs": [],
   "source": [
    "f = np.zeros((2,3,5))"
   ]
  },
  {
   "cell_type": "code",
   "execution_count": 64,
   "metadata": {},
   "outputs": [
    {
     "name": "stdout",
     "output_type": "stream",
     "text": [
      "[[[ True False  True  True  True]\n",
      "  [ True False False False  True]\n",
      "  [ True  True False False False]]\n",
      "\n",
      " [[False False False  True  True]\n",
      "  [False False False  True  True]\n",
      "  [ True False  True False False]]]\n"
     ]
    }
   ],
   "source": [
    "f = d < d_mean\n",
    "\n",
    "print(f)"
   ]
  },
  {
   "cell_type": "code",
   "execution_count": null,
   "metadata": {},
   "outputs": [],
   "source": []
  }
 ],
 "metadata": {
  "kernelspec": {
   "display_name": "Python 3",
   "language": "python",
   "name": "python3"
  },
  "language_info": {
   "codemirror_mode": {
    "name": "ipython",
    "version": 3
   },
   "file_extension": ".py",
   "mimetype": "text/x-python",
   "name": "python",
   "nbconvert_exporter": "python",
   "pygments_lexer": "ipython3",
   "version": "3.9.4"
  }
 },
 "nbformat": 4,
 "nbformat_minor": 2
}
